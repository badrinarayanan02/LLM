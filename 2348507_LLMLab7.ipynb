{
  "nbformat": 4,
  "nbformat_minor": 0,
  "metadata": {
    "colab": {
      "provenance": [],
      "gpuType": "T4",
      "authorship_tag": "ABX9TyPS3tGEHJyz+owHTCbj/YTi",
      "include_colab_link": true
    },
    "kernelspec": {
      "name": "python3",
      "display_name": "Python 3"
    },
    "language_info": {
      "name": "python"
    },
    "accelerator": "GPU"
  },
  "cells": [
    {
      "cell_type": "markdown",
      "metadata": {
        "id": "view-in-github",
        "colab_type": "text"
      },
      "source": [
        "<a href=\"https://colab.research.google.com/github/badrinarayanan02/LLM/blob/main/2348507_LLMLab7.ipynb\" target=\"_parent\"><img src=\"https://colab.research.google.com/assets/colab-badge.svg\" alt=\"Open In Colab\"/></a>"
      ]
    },
    {
      "cell_type": "markdown",
      "source": [
        "# Tokenization and Encodings for a Domain Specific Dataset"
      ],
      "metadata": {
        "id": "f_ZPOQ8StAV2"
      }
    },
    {
      "cell_type": "markdown",
      "source": [
        "Going to Finetune DistillBERT llm model using Transformers and Tensforflow. For this tokenization and encodings is very essential\n"
      ],
      "metadata": {
        "id": "kWfXwTKUtV1V"
      }
    },
    {
      "cell_type": "markdown",
      "source": [
        "DistillBERT - It is a smaller version of BERT. It tries to mimic the pretrained model BERT. It has less computations."
      ],
      "metadata": {
        "id": "YaQy6tlqtRSh"
      }
    },
    {
      "cell_type": "markdown",
      "source": [
        "Loading the libraries"
      ],
      "metadata": {
        "id": "pofBeBvmurRE"
      }
    },
    {
      "cell_type": "code",
      "execution_count": 1,
      "metadata": {
        "id": "v2T_5SlCs7bv"
      },
      "outputs": [],
      "source": [
        "import pandas as pd\n",
        "from sklearn.model_selection import train_test_split\n",
        "from transformers import DistilBertTokenizerFast\n",
        "import tensorflow as tf\n",
        "import numpy as np\n",
        "from transformers import TFDistilBertForSequenceClassification, Trainer, TFTrainingArguments"
      ]
    },
    {
      "cell_type": "markdown",
      "source": [
        "Loading the Dataset"
      ],
      "metadata": {
        "id": "mKBb0WfCtg5T"
      }
    },
    {
      "cell_type": "code",
      "source": [
        "data = pd.read_csv('/content/TranslatedDigikalaDataset.csv')\n",
        "data.head()"
      ],
      "metadata": {
        "colab": {
          "base_uri": "https://localhost:8080/",
          "height": 206
        },
        "id": "4sqQKJgGwGFi",
        "outputId": "d6e2547f-d3a7-461b-ce78-cab96848b25d"
      },
      "execution_count": 2,
      "outputs": [
        {
          "output_type": "execute_result",
          "data": {
            "text/plain": [
              "                                             Comment  Liked\n",
              "0        A great front-facing phone that's great\\r\\n      1\n",
              "1  The appearance of the back may not be like a s...      0\n",
              "2  Hardware is very powerful and very heavy softw...      1\n",
              "3  If you're having trouble with it, it's a good ...      1\n",
              "4  The screen of this handset is one of the most ...      1"
            ],
            "text/html": [
              "\n",
              "  <div id=\"df-3445a80f-718c-4a39-82ba-0d3cd239e7ac\" class=\"colab-df-container\">\n",
              "    <div>\n",
              "<style scoped>\n",
              "    .dataframe tbody tr th:only-of-type {\n",
              "        vertical-align: middle;\n",
              "    }\n",
              "\n",
              "    .dataframe tbody tr th {\n",
              "        vertical-align: top;\n",
              "    }\n",
              "\n",
              "    .dataframe thead th {\n",
              "        text-align: right;\n",
              "    }\n",
              "</style>\n",
              "<table border=\"1\" class=\"dataframe\">\n",
              "  <thead>\n",
              "    <tr style=\"text-align: right;\">\n",
              "      <th></th>\n",
              "      <th>Comment</th>\n",
              "      <th>Liked</th>\n",
              "    </tr>\n",
              "  </thead>\n",
              "  <tbody>\n",
              "    <tr>\n",
              "      <th>0</th>\n",
              "      <td>A great front-facing phone that's great\\r\\n</td>\n",
              "      <td>1</td>\n",
              "    </tr>\n",
              "    <tr>\n",
              "      <th>1</th>\n",
              "      <td>The appearance of the back may not be like a s...</td>\n",
              "      <td>0</td>\n",
              "    </tr>\n",
              "    <tr>\n",
              "      <th>2</th>\n",
              "      <td>Hardware is very powerful and very heavy softw...</td>\n",
              "      <td>1</td>\n",
              "    </tr>\n",
              "    <tr>\n",
              "      <th>3</th>\n",
              "      <td>If you're having trouble with it, it's a good ...</td>\n",
              "      <td>1</td>\n",
              "    </tr>\n",
              "    <tr>\n",
              "      <th>4</th>\n",
              "      <td>The screen of this handset is one of the most ...</td>\n",
              "      <td>1</td>\n",
              "    </tr>\n",
              "  </tbody>\n",
              "</table>\n",
              "</div>\n",
              "    <div class=\"colab-df-buttons\">\n",
              "\n",
              "  <div class=\"colab-df-container\">\n",
              "    <button class=\"colab-df-convert\" onclick=\"convertToInteractive('df-3445a80f-718c-4a39-82ba-0d3cd239e7ac')\"\n",
              "            title=\"Convert this dataframe to an interactive table.\"\n",
              "            style=\"display:none;\">\n",
              "\n",
              "  <svg xmlns=\"http://www.w3.org/2000/svg\" height=\"24px\" viewBox=\"0 -960 960 960\">\n",
              "    <path d=\"M120-120v-720h720v720H120Zm60-500h600v-160H180v160Zm220 220h160v-160H400v160Zm0 220h160v-160H400v160ZM180-400h160v-160H180v160Zm440 0h160v-160H620v160ZM180-180h160v-160H180v160Zm440 0h160v-160H620v160Z\"/>\n",
              "  </svg>\n",
              "    </button>\n",
              "\n",
              "  <style>\n",
              "    .colab-df-container {\n",
              "      display:flex;\n",
              "      gap: 12px;\n",
              "    }\n",
              "\n",
              "    .colab-df-convert {\n",
              "      background-color: #E8F0FE;\n",
              "      border: none;\n",
              "      border-radius: 50%;\n",
              "      cursor: pointer;\n",
              "      display: none;\n",
              "      fill: #1967D2;\n",
              "      height: 32px;\n",
              "      padding: 0 0 0 0;\n",
              "      width: 32px;\n",
              "    }\n",
              "\n",
              "    .colab-df-convert:hover {\n",
              "      background-color: #E2EBFA;\n",
              "      box-shadow: 0px 1px 2px rgba(60, 64, 67, 0.3), 0px 1px 3px 1px rgba(60, 64, 67, 0.15);\n",
              "      fill: #174EA6;\n",
              "    }\n",
              "\n",
              "    .colab-df-buttons div {\n",
              "      margin-bottom: 4px;\n",
              "    }\n",
              "\n",
              "    [theme=dark] .colab-df-convert {\n",
              "      background-color: #3B4455;\n",
              "      fill: #D2E3FC;\n",
              "    }\n",
              "\n",
              "    [theme=dark] .colab-df-convert:hover {\n",
              "      background-color: #434B5C;\n",
              "      box-shadow: 0px 1px 3px 1px rgba(0, 0, 0, 0.15);\n",
              "      filter: drop-shadow(0px 1px 2px rgba(0, 0, 0, 0.3));\n",
              "      fill: #FFFFFF;\n",
              "    }\n",
              "  </style>\n",
              "\n",
              "    <script>\n",
              "      const buttonEl =\n",
              "        document.querySelector('#df-3445a80f-718c-4a39-82ba-0d3cd239e7ac button.colab-df-convert');\n",
              "      buttonEl.style.display =\n",
              "        google.colab.kernel.accessAllowed ? 'block' : 'none';\n",
              "\n",
              "      async function convertToInteractive(key) {\n",
              "        const element = document.querySelector('#df-3445a80f-718c-4a39-82ba-0d3cd239e7ac');\n",
              "        const dataTable =\n",
              "          await google.colab.kernel.invokeFunction('convertToInteractive',\n",
              "                                                    [key], {});\n",
              "        if (!dataTable) return;\n",
              "\n",
              "        const docLinkHtml = 'Like what you see? Visit the ' +\n",
              "          '<a target=\"_blank\" href=https://colab.research.google.com/notebooks/data_table.ipynb>data table notebook</a>'\n",
              "          + ' to learn more about interactive tables.';\n",
              "        element.innerHTML = '';\n",
              "        dataTable['output_type'] = 'display_data';\n",
              "        await google.colab.output.renderOutput(dataTable, element);\n",
              "        const docLink = document.createElement('div');\n",
              "        docLink.innerHTML = docLinkHtml;\n",
              "        element.appendChild(docLink);\n",
              "      }\n",
              "    </script>\n",
              "  </div>\n",
              "\n",
              "\n",
              "<div id=\"df-db6c682a-22d1-4bcb-a700-6db935df04a6\">\n",
              "  <button class=\"colab-df-quickchart\" onclick=\"quickchart('df-db6c682a-22d1-4bcb-a700-6db935df04a6')\"\n",
              "            title=\"Suggest charts\"\n",
              "            style=\"display:none;\">\n",
              "\n",
              "<svg xmlns=\"http://www.w3.org/2000/svg\" height=\"24px\"viewBox=\"0 0 24 24\"\n",
              "     width=\"24px\">\n",
              "    <g>\n",
              "        <path d=\"M19 3H5c-1.1 0-2 .9-2 2v14c0 1.1.9 2 2 2h14c1.1 0 2-.9 2-2V5c0-1.1-.9-2-2-2zM9 17H7v-7h2v7zm4 0h-2V7h2v10zm4 0h-2v-4h2v4z\"/>\n",
              "    </g>\n",
              "</svg>\n",
              "  </button>\n",
              "\n",
              "<style>\n",
              "  .colab-df-quickchart {\n",
              "      --bg-color: #E8F0FE;\n",
              "      --fill-color: #1967D2;\n",
              "      --hover-bg-color: #E2EBFA;\n",
              "      --hover-fill-color: #174EA6;\n",
              "      --disabled-fill-color: #AAA;\n",
              "      --disabled-bg-color: #DDD;\n",
              "  }\n",
              "\n",
              "  [theme=dark] .colab-df-quickchart {\n",
              "      --bg-color: #3B4455;\n",
              "      --fill-color: #D2E3FC;\n",
              "      --hover-bg-color: #434B5C;\n",
              "      --hover-fill-color: #FFFFFF;\n",
              "      --disabled-bg-color: #3B4455;\n",
              "      --disabled-fill-color: #666;\n",
              "  }\n",
              "\n",
              "  .colab-df-quickchart {\n",
              "    background-color: var(--bg-color);\n",
              "    border: none;\n",
              "    border-radius: 50%;\n",
              "    cursor: pointer;\n",
              "    display: none;\n",
              "    fill: var(--fill-color);\n",
              "    height: 32px;\n",
              "    padding: 0;\n",
              "    width: 32px;\n",
              "  }\n",
              "\n",
              "  .colab-df-quickchart:hover {\n",
              "    background-color: var(--hover-bg-color);\n",
              "    box-shadow: 0 1px 2px rgba(60, 64, 67, 0.3), 0 1px 3px 1px rgba(60, 64, 67, 0.15);\n",
              "    fill: var(--button-hover-fill-color);\n",
              "  }\n",
              "\n",
              "  .colab-df-quickchart-complete:disabled,\n",
              "  .colab-df-quickchart-complete:disabled:hover {\n",
              "    background-color: var(--disabled-bg-color);\n",
              "    fill: var(--disabled-fill-color);\n",
              "    box-shadow: none;\n",
              "  }\n",
              "\n",
              "  .colab-df-spinner {\n",
              "    border: 2px solid var(--fill-color);\n",
              "    border-color: transparent;\n",
              "    border-bottom-color: var(--fill-color);\n",
              "    animation:\n",
              "      spin 1s steps(1) infinite;\n",
              "  }\n",
              "\n",
              "  @keyframes spin {\n",
              "    0% {\n",
              "      border-color: transparent;\n",
              "      border-bottom-color: var(--fill-color);\n",
              "      border-left-color: var(--fill-color);\n",
              "    }\n",
              "    20% {\n",
              "      border-color: transparent;\n",
              "      border-left-color: var(--fill-color);\n",
              "      border-top-color: var(--fill-color);\n",
              "    }\n",
              "    30% {\n",
              "      border-color: transparent;\n",
              "      border-left-color: var(--fill-color);\n",
              "      border-top-color: var(--fill-color);\n",
              "      border-right-color: var(--fill-color);\n",
              "    }\n",
              "    40% {\n",
              "      border-color: transparent;\n",
              "      border-right-color: var(--fill-color);\n",
              "      border-top-color: var(--fill-color);\n",
              "    }\n",
              "    60% {\n",
              "      border-color: transparent;\n",
              "      border-right-color: var(--fill-color);\n",
              "    }\n",
              "    80% {\n",
              "      border-color: transparent;\n",
              "      border-right-color: var(--fill-color);\n",
              "      border-bottom-color: var(--fill-color);\n",
              "    }\n",
              "    90% {\n",
              "      border-color: transparent;\n",
              "      border-bottom-color: var(--fill-color);\n",
              "    }\n",
              "  }\n",
              "</style>\n",
              "\n",
              "  <script>\n",
              "    async function quickchart(key) {\n",
              "      const quickchartButtonEl =\n",
              "        document.querySelector('#' + key + ' button');\n",
              "      quickchartButtonEl.disabled = true;  // To prevent multiple clicks.\n",
              "      quickchartButtonEl.classList.add('colab-df-spinner');\n",
              "      try {\n",
              "        const charts = await google.colab.kernel.invokeFunction(\n",
              "            'suggestCharts', [key], {});\n",
              "      } catch (error) {\n",
              "        console.error('Error during call to suggestCharts:', error);\n",
              "      }\n",
              "      quickchartButtonEl.classList.remove('colab-df-spinner');\n",
              "      quickchartButtonEl.classList.add('colab-df-quickchart-complete');\n",
              "    }\n",
              "    (() => {\n",
              "      let quickchartButtonEl =\n",
              "        document.querySelector('#df-db6c682a-22d1-4bcb-a700-6db935df04a6 button');\n",
              "      quickchartButtonEl.style.display =\n",
              "        google.colab.kernel.accessAllowed ? 'block' : 'none';\n",
              "    })();\n",
              "  </script>\n",
              "</div>\n",
              "\n",
              "    </div>\n",
              "  </div>\n"
            ],
            "application/vnd.google.colaboratory.intrinsic+json": {
              "type": "dataframe",
              "variable_name": "data",
              "summary": "{\n  \"name\": \"data\",\n  \"rows\": 719,\n  \"fields\": [\n    {\n      \"column\": \"Comment\",\n      \"properties\": {\n        \"dtype\": \"string\",\n        \"num_unique_values\": 717,\n        \"samples\": [\n          \"In terms of camera and display, memory and innovation, the phone is on the lower end of the Sony and Samsung brands\",\n          \"High-quality camera hardware and battery\",\n          \"Everything is fine\"\n        ],\n        \"semantic_type\": \"\",\n        \"description\": \"\"\n      }\n    },\n    {\n      \"column\": \"Liked\",\n      \"properties\": {\n        \"dtype\": \"number\",\n        \"std\": 0,\n        \"min\": 0,\n        \"max\": 1,\n        \"num_unique_values\": 2,\n        \"samples\": [\n          0,\n          1\n        ],\n        \"semantic_type\": \"\",\n        \"description\": \"\"\n      }\n    }\n  ]\n}"
            }
          },
          "metadata": {},
          "execution_count": 2
        }
      ]
    },
    {
      "cell_type": "markdown",
      "source": [
        "The dataset is related to social media domain. Two features are available comment and liked. Positive comments are labeled with 1 and Some troubling comments are labeled with 0."
      ],
      "metadata": {
        "id": "kJL3QBKTwQNp"
      }
    },
    {
      "cell_type": "markdown",
      "source": [
        "Going to finetune DistillBERT model, meanwhile performing tokenization and encoding is essential."
      ],
      "metadata": {
        "id": "5GdJ_g0xxCZh"
      }
    },
    {
      "cell_type": "code",
      "source": [
        "data.shape"
      ],
      "metadata": {
        "colab": {
          "base_uri": "https://localhost:8080/"
        },
        "id": "oYG4w6B5wMiL",
        "outputId": "9978d3af-2ecd-48f7-e99c-55e13bc73949"
      },
      "execution_count": 4,
      "outputs": [
        {
          "output_type": "execute_result",
          "data": {
            "text/plain": [
              "(719, 2)"
            ]
          },
          "metadata": {},
          "execution_count": 4
        }
      ]
    },
    {
      "cell_type": "markdown",
      "source": [
        "Converting into Independent and Dependent Features"
      ],
      "metadata": {
        "id": "_Ib3fizdxUHR"
      }
    },
    {
      "cell_type": "code",
      "source": [
        "X = list(data['Comment'])"
      ],
      "metadata": {
        "id": "B8jlUmfSxOey"
      },
      "execution_count": 5,
      "outputs": []
    },
    {
      "cell_type": "code",
      "source": [
        "y = list(data['Liked'])"
      ],
      "metadata": {
        "id": "S6BzO1sSxaJD"
      },
      "execution_count": 6,
      "outputs": []
    },
    {
      "cell_type": "code",
      "source": [
        "X[:5]"
      ],
      "metadata": {
        "colab": {
          "base_uri": "https://localhost:8080/"
        },
        "id": "68iMftuTxcVX",
        "outputId": "2e81267a-69f0-48d1-9ede-d34b1196ec32"
      },
      "execution_count": 7,
      "outputs": [
        {
          "output_type": "execute_result",
          "data": {
            "text/plain": [
              "[\"A great front-facing phone that's great\\r\\n\",\n",
              " \"The appearance of the back may not be like a series of friends because it's not very good\",\n",
              " 'Hardware is very powerful and very heavy software runs smoothly',\n",
              " \"If you're having trouble with it, it's a good phone and a lot better than the rest\",\n",
              " 'The screen of this handset is one of the most revolutionary types available in the market, which has made other manufacturers mimic it']"
            ]
          },
          "metadata": {},
          "execution_count": 7
        }
      ]
    },
    {
      "cell_type": "code",
      "source": [
        "y[:5]"
      ],
      "metadata": {
        "colab": {
          "base_uri": "https://localhost:8080/"
        },
        "id": "LlKn0VJKxh03",
        "outputId": "315dcb4d-0066-4c82-d970-7f5fe3aae082"
      },
      "execution_count": 8,
      "outputs": [
        {
          "output_type": "execute_result",
          "data": {
            "text/plain": [
              "[1, 0, 1, 1, 1]"
            ]
          },
          "metadata": {},
          "execution_count": 8
        }
      ]
    },
    {
      "cell_type": "markdown",
      "source": [
        "Splitting the Data"
      ],
      "metadata": {
        "id": "nelBT4dQxyam"
      }
    },
    {
      "cell_type": "code",
      "source": [
        "X_train,X_test, y_train, y_test = train_test_split(X,y,test_size=0.2,random_state=42)"
      ],
      "metadata": {
        "id": "1pMShQBpxkun"
      },
      "execution_count": 9,
      "outputs": []
    },
    {
      "cell_type": "code",
      "source": [
        "X_train[:5]"
      ],
      "metadata": {
        "colab": {
          "base_uri": "https://localhost:8080/"
        },
        "id": "GZk8ZnOUx6vs",
        "outputId": "4b38646c-73ab-4741-f33c-7ee9448d5d60"
      },
      "execution_count": 10,
      "outputs": [
        {
          "output_type": "execute_result",
          "data": {
            "text/plain": [
              "['Similar to the previous generation, not having a fast charging price',\n",
              " 'Its good quality is its superb camera quality, especially its selfie camera',\n",
              " 'Extremely fast and easy to use. High-performance features',\n",
              " \"Do not get hot in the usual use. I'm completely satisfied with the use of it in six months.\",\n",
              " 'Antenna is good and can not be disconnected']"
            ]
          },
          "metadata": {},
          "execution_count": 10
        }
      ]
    },
    {
      "cell_type": "markdown",
      "source": [
        "Using transformers"
      ],
      "metadata": {
        "id": "C5tCd6ymyJKY"
      }
    },
    {
      "cell_type": "markdown",
      "source": [
        "Three Important Steps\n",
        "\n",
        "1) Call the pretrained model\n",
        "\n",
        "2) Call the tokenizer (For specific model specific tokenizer is there)\n",
        "\n",
        "3) Convert the encodings to a data object"
      ],
      "metadata": {
        "id": "z0Ko2dn3yRdp"
      }
    },
    {
      "cell_type": "markdown",
      "source": [
        "Loading the pretrained model"
      ],
      "metadata": {
        "id": "dtmis_xOye9t"
      }
    },
    {
      "cell_type": "code",
      "source": [
        "tokenizer = DistilBertTokenizerFast.from_pretrained('distilbert-base-uncased')"
      ],
      "metadata": {
        "id": "5VlZyJGDx__b"
      },
      "execution_count": null,
      "outputs": []
    },
    {
      "cell_type": "markdown",
      "source": [
        "Inference: For Tokenization DistillBertokenizerFast is used here."
      ],
      "metadata": {
        "id": "CF37bRsiytG0"
      }
    },
    {
      "cell_type": "markdown",
      "source": [
        "Performing Encodings"
      ],
      "metadata": {
        "id": "Vfamyu1uymi-"
      }
    },
    {
      "cell_type": "code",
      "source": [
        "train_encodings = tokenizer(X_train, truncation = True, padding = True)\n",
        "test_encodings = tokenizer(X_test, truncation = True, padding=True)"
      ],
      "metadata": {
        "id": "YYQIwxyoyhnb"
      },
      "execution_count": 16,
      "outputs": []
    },
    {
      "cell_type": "markdown",
      "source": [
        "Converting these encodings into a dataset objects using tensorflow"
      ],
      "metadata": {
        "id": "GOEhV5W-y6N_"
      }
    },
    {
      "cell_type": "code",
      "source": [
        "train_dataset = tf.data.Dataset.from_tensor_slices((\n",
        "    dict(train_encodings),\n",
        "    y_train\n",
        ")).batch(16)\n",
        "\n",
        "test_dataset = tf.data.Dataset.from_tensor_slices((\n",
        "    dict(test_encodings),\n",
        "    y_test\n",
        ")).batch(16)"
      ],
      "metadata": {
        "id": "eHoTEdNvy3NZ"
      },
      "execution_count": 17,
      "outputs": []
    },
    {
      "cell_type": "markdown",
      "source": [
        "Inference: It will be compatible when we are fine tuning the model. And this is the format required for sequence classifcation."
      ],
      "metadata": {
        "id": "iLpK_KmNy-1g"
      }
    },
    {
      "cell_type": "markdown",
      "source": [
        "Initializing the Pretrained Model"
      ],
      "metadata": {
        "id": "cHnUMWNqzQEe"
      }
    },
    {
      "cell_type": "code",
      "source": [
        "model = TFDistilBertForSequenceClassification.from_pretrained('distilbert-base-uncased')"
      ],
      "metadata": {
        "id": "rN8GIQ8xy-Q-"
      },
      "execution_count": null,
      "outputs": []
    },
    {
      "cell_type": "code",
      "source": [
        "model.compile(\n",
        "    optimizer = tf.keras.optimizers.Adam(learning_rate=5e-5),\n",
        "    loss = tf.keras.losses.SparseCategoricalCrossentropy(from_logits=True),\n",
        "    metrics = ['accuracy']\n",
        ")"
      ],
      "metadata": {
        "id": "IW7Kz7hzzTFI"
      },
      "execution_count": 19,
      "outputs": []
    },
    {
      "cell_type": "markdown",
      "source": [
        "Inference: Keras is used here because TFTrainer is deprecated in Tensorflow."
      ],
      "metadata": {
        "id": "k1tAonvizakO"
      }
    },
    {
      "cell_type": "code",
      "source": [
        "history = model.fit(train_dataset, validation_data = test_dataset, epochs = 5)"
      ],
      "metadata": {
        "colab": {
          "base_uri": "https://localhost:8080/"
        },
        "id": "ZduDCtjfzZoY",
        "outputId": "3a3c08cb-bfda-4112-b53e-8a83b0619b47"
      },
      "execution_count": 20,
      "outputs": [
        {
          "output_type": "stream",
          "name": "stdout",
          "text": [
            "Epoch 1/5\n",
            "36/36 [==============================] - 41s 218ms/step - loss: 0.4265 - accuracy: 0.7983 - val_loss: 0.1655 - val_accuracy: 0.9444\n",
            "Epoch 2/5\n",
            "36/36 [==============================] - 4s 119ms/step - loss: 0.1393 - accuracy: 0.9530 - val_loss: 0.2465 - val_accuracy: 0.9236\n",
            "Epoch 3/5\n",
            "36/36 [==============================] - 4s 125ms/step - loss: 0.0838 - accuracy: 0.9791 - val_loss: 0.2342 - val_accuracy: 0.9375\n",
            "Epoch 4/5\n",
            "36/36 [==============================] - 4s 119ms/step - loss: 0.0496 - accuracy: 0.9861 - val_loss: 0.3121 - val_accuracy: 0.9236\n",
            "Epoch 5/5\n",
            "36/36 [==============================] - 4s 120ms/step - loss: 0.0262 - accuracy: 0.9913 - val_loss: 0.2922 - val_accuracy: 0.9236\n"
          ]
        }
      ]
    },
    {
      "cell_type": "code",
      "source": [
        "loss, accuracy = model.evaluate(test_dataset)\n",
        "print(f\"Test Accuracy: {accuracy:.4f}\")"
      ],
      "metadata": {
        "colab": {
          "base_uri": "https://localhost:8080/"
        },
        "id": "1SRi8RxLzlg2",
        "outputId": "f07bfea6-0de4-46b6-da58-9f01237971be"
      },
      "execution_count": 21,
      "outputs": [
        {
          "output_type": "stream",
          "name": "stdout",
          "text": [
            "9/9 [==============================] - 1s 75ms/step - loss: 0.2922 - accuracy: 0.9236\n",
            "Test Accuracy: 0.9236\n"
          ]
        }
      ]
    },
    {
      "cell_type": "code",
      "source": [
        "predictions = model.predict(test_dataset)"
      ],
      "metadata": {
        "colab": {
          "base_uri": "https://localhost:8080/"
        },
        "id": "LAb_Ebutz57o",
        "outputId": "fbe44ed7-f84b-48f9-cbf8-5331d9a56319"
      },
      "execution_count": 22,
      "outputs": [
        {
          "output_type": "stream",
          "name": "stdout",
          "text": [
            "9/9 [==============================] - 5s 75ms/step\n"
          ]
        }
      ]
    },
    {
      "cell_type": "code",
      "source": [
        "predictions"
      ],
      "metadata": {
        "colab": {
          "base_uri": "https://localhost:8080/"
        },
        "collapsed": true,
        "id": "TsxI0Xnuz92T",
        "outputId": "fa44fa92-9073-4267-ed74-aa982651dd31"
      },
      "execution_count": 33,
      "outputs": [
        {
          "output_type": "execute_result",
          "data": {
            "text/plain": [
              "TFSequenceClassifierOutput(loss=None, logits=array([[ 2.8974602 , -3.176048  ],\n",
              "       [-2.928574  ,  2.5583763 ],\n",
              "       [-3.014189  ,  2.6637576 ],\n",
              "       [ 2.7336676 , -3.0418036 ],\n",
              "       [-2.400051  ,  2.0738413 ],\n",
              "       [ 2.8868978 , -3.213017  ],\n",
              "       [-2.9602954 ,  2.5321367 ],\n",
              "       [-2.9555707 ,  2.5422337 ],\n",
              "       [ 2.7116237 , -2.935691  ],\n",
              "       [-0.3448124 ,  0.18342088],\n",
              "       [ 2.9197206 , -3.202659  ],\n",
              "       [-0.7763336 ,  0.52196366],\n",
              "       [ 2.5420768 , -2.8114276 ],\n",
              "       [ 2.9299495 , -3.1626778 ],\n",
              "       [-3.1809778 ,  2.7263377 ],\n",
              "       [ 2.6206288 , -2.8762083 ],\n",
              "       [-1.5650862 ,  1.255106  ],\n",
              "       [-1.2775854 ,  1.1024499 ],\n",
              "       [ 2.7955906 , -3.0574121 ],\n",
              "       [-2.729405  ,  2.302347  ],\n",
              "       [-2.9271507 ,  2.4907396 ],\n",
              "       [-2.8982148 ,  2.526477  ],\n",
              "       [-2.9406412 ,  2.4755232 ],\n",
              "       [ 2.833     , -3.1813922 ],\n",
              "       [ 2.7729177 , -3.1040587 ],\n",
              "       [-3.0436535 ,  2.657355  ],\n",
              "       [-2.7511394 ,  2.171258  ],\n",
              "       [-2.9951684 ,  2.5890336 ],\n",
              "       [-2.6463692 ,  2.3544095 ],\n",
              "       [-2.714635  ,  2.3754501 ],\n",
              "       [ 2.9482172 , -3.2353716 ],\n",
              "       [ 2.2698534 , -2.470514  ],\n",
              "       [ 2.7276325 , -2.9473665 ],\n",
              "       [-2.8521867 ,  2.484767  ],\n",
              "       [-2.5770693 ,  2.157358  ],\n",
              "       [-2.8355432 ,  2.5057313 ],\n",
              "       [-1.0958419 ,  0.901168  ],\n",
              "       [-3.1435924 ,  2.7568696 ],\n",
              "       [-2.913756  ,  2.5821035 ],\n",
              "       [-2.8421104 ,  2.5148752 ],\n",
              "       [-2.6386526 ,  2.286066  ],\n",
              "       [-3.0735362 ,  2.6722093 ],\n",
              "       [-2.7701647 ,  2.3667028 ],\n",
              "       [-2.934833  ,  2.597147  ],\n",
              "       [-2.934704  ,  2.5821671 ],\n",
              "       [ 2.203664  , -2.5407212 ],\n",
              "       [ 2.5719807 , -2.8609855 ],\n",
              "       [ 2.7807987 , -3.1349287 ],\n",
              "       [-3.167013  ,  2.7085733 ],\n",
              "       [ 2.745118  , -2.9736662 ],\n",
              "       [-2.9175527 ,  2.544866  ],\n",
              "       [-2.538881  ,  2.2062733 ],\n",
              "       [-2.8652449 ,  2.3169124 ],\n",
              "       [ 2.7267132 , -2.981626  ],\n",
              "       [-2.9860837 ,  2.588893  ],\n",
              "       [-2.8316288 ,  2.3343272 ],\n",
              "       [-2.9775546 ,  2.610517  ],\n",
              "       [-3.033074  ,  2.6800318 ],\n",
              "       [-2.6227968 ,  2.2494373 ],\n",
              "       [-2.9109423 ,  2.5385993 ],\n",
              "       [-2.7616343 ,  2.4055676 ],\n",
              "       [-2.8980808 ,  2.5245879 ],\n",
              "       [-3.0392127 ,  2.6661053 ],\n",
              "       [-2.5136523 ,  2.2597487 ],\n",
              "       [-3.0071433 ,  2.680268  ],\n",
              "       [ 2.877866  , -3.2239914 ],\n",
              "       [-2.85758   ,  2.5099838 ],\n",
              "       [-3.070449  ,  2.742389  ],\n",
              "       [ 2.8671298 , -3.1836946 ],\n",
              "       [-3.0964875 ,  2.6711366 ],\n",
              "       [ 1.0736358 , -0.98835015],\n",
              "       [-2.8624873 ,  2.488394  ],\n",
              "       [ 2.9493563 , -3.226714  ],\n",
              "       [ 2.968532  , -3.2817326 ],\n",
              "       [-2.6047878 ,  2.2651572 ],\n",
              "       [-1.2770543 ,  1.0604088 ],\n",
              "       [ 2.6647925 , -2.9375992 ],\n",
              "       [ 2.9017792 , -3.231934  ],\n",
              "       [ 2.8946755 , -3.2072177 ],\n",
              "       [ 2.7602317 , -3.0907645 ],\n",
              "       [-2.9201932 ,  2.5448878 ],\n",
              "       [-3.0987077 ,  2.7106078 ],\n",
              "       [-2.6410143 ,  2.1947482 ],\n",
              "       [ 2.774258  , -2.9568548 ],\n",
              "       [ 2.8397877 , -3.1576457 ],\n",
              "       [-2.7661083 ,  2.4298477 ],\n",
              "       [-2.9196277 ,  2.5515223 ],\n",
              "       [-2.7992616 ,  2.4954567 ],\n",
              "       [-2.7515376 ,  2.3958135 ],\n",
              "       [ 1.9046313 , -2.1253963 ],\n",
              "       [-2.9698339 ,  2.564131  ],\n",
              "       [-3.112176  ,  2.6843088 ],\n",
              "       [ 2.6752858 , -2.9816234 ],\n",
              "       [ 2.8433685 , -3.1003485 ],\n",
              "       [-1.6697472 ,  1.3862424 ],\n",
              "       [-3.024764  ,  2.6183028 ],\n",
              "       [-3.0286038 ,  2.6602585 ],\n",
              "       [-2.9075406 ,  2.5358858 ],\n",
              "       [ 1.8069967 , -2.0753698 ],\n",
              "       [ 2.836174  , -3.0930223 ],\n",
              "       [ 2.7933264 , -3.044709  ],\n",
              "       [-2.6517692 ,  2.1871705 ],\n",
              "       [-2.8429313 ,  2.475736  ],\n",
              "       [-2.3649466 ,  2.0156553 ],\n",
              "       [ 2.8792017 , -3.2078178 ],\n",
              "       [ 2.9100895 , -3.2402298 ],\n",
              "       [-3.0574212 ,  2.6834793 ],\n",
              "       [-2.3749275 ,  1.8393193 ],\n",
              "       [ 2.9051676 , -3.2314882 ],\n",
              "       [-2.9630945 ,  2.5078716 ],\n",
              "       [-2.974183  ,  2.5729797 ],\n",
              "       [-2.934465  ,  2.5361593 ],\n",
              "       [-3.039087  ,  2.6531696 ],\n",
              "       [-3.067575  ,  2.6169684 ],\n",
              "       [ 2.8962896 , -3.2365422 ],\n",
              "       [-2.988603  ,  2.536719  ],\n",
              "       [-2.9926808 ,  2.609349  ],\n",
              "       [-2.7386317 ,  2.4053822 ],\n",
              "       [-3.0300908 ,  2.5906823 ],\n",
              "       [-3.0060635 ,  2.6740546 ],\n",
              "       [-3.0135462 ,  2.5737872 ],\n",
              "       [-2.659643  ,  2.3372686 ],\n",
              "       [-1.8591542 ,  1.5241638 ],\n",
              "       [-2.9066248 ,  2.575919  ],\n",
              "       [-1.1694018 ,  0.77337843],\n",
              "       [ 2.900993  , -3.179142  ],\n",
              "       [ 1.1386554 , -1.1774621 ],\n",
              "       [-2.7578607 ,  2.5044737 ],\n",
              "       [-2.90221   ,  2.460055  ],\n",
              "       [ 1.7907902 , -2.1278067 ],\n",
              "       [-3.0718026 ,  2.6260064 ],\n",
              "       [ 2.7952867 , -3.0118299 ],\n",
              "       [ 2.5708175 , -2.7431378 ],\n",
              "       [-2.4367814 ,  1.9416643 ],\n",
              "       [ 2.5809324 , -2.9722848 ],\n",
              "       [ 2.6368742 , -2.988349  ],\n",
              "       [ 2.9240587 , -3.1896756 ],\n",
              "       [-3.1552296 ,  2.688866  ],\n",
              "       [-2.9482274 ,  2.6148772 ],\n",
              "       [-3.0884237 ,  2.7167692 ],\n",
              "       [ 2.3266013 , -2.4528682 ],\n",
              "       [ 2.928977  , -3.2230327 ],\n",
              "       [-2.9694176 ,  2.618972  ],\n",
              "       [ 2.716406  , -2.988495  ]], dtype=float32), hidden_states=None, attentions=None)"
            ]
          },
          "metadata": {},
          "execution_count": 33
        }
      ]
    },
    {
      "cell_type": "markdown",
      "source": [
        "These are logits score. Logits - Raw scores output by the model."
      ],
      "metadata": {
        "id": "ca1X3mhn0IJu"
      }
    },
    {
      "cell_type": "code",
      "source": [
        "logits = predictions.logits\n",
        "probabilities = tf.nn.softmax(logits,axis=1)\n",
        "predicted_labels = tf.argmax(probabilities, axis=-1).numpy()"
      ],
      "metadata": {
        "id": "6UWbMzSQz_7W"
      },
      "execution_count": 25,
      "outputs": []
    },
    {
      "cell_type": "markdown",
      "source": [
        "Conversion of logits to probabilities"
      ],
      "metadata": {
        "id": "qgenxUJV2XPR"
      }
    },
    {
      "cell_type": "code",
      "source": [
        "y_test_np = np.array(y_test)\n",
        "print('Predicted Labels:',predicted_labels[:20])"
      ],
      "metadata": {
        "colab": {
          "base_uri": "https://localhost:8080/"
        },
        "id": "kz_fFY5y0KKI",
        "outputId": "7c79c5e1-8a71-439a-b2d5-c35c2ccd1c7d"
      },
      "execution_count": 27,
      "outputs": [
        {
          "output_type": "stream",
          "name": "stdout",
          "text": [
            "Predicted Labels: [0 1 1 0 1 0 1 1 0 1 0 1 0 0 1 0 1 1 0 1]\n"
          ]
        }
      ]
    },
    {
      "cell_type": "code",
      "source": [
        "model.save_pretrained(\"sentiment_model\")"
      ],
      "metadata": {
        "id": "7FgoQsLT0Lx9"
      },
      "execution_count": 28,
      "outputs": []
    },
    {
      "cell_type": "markdown",
      "source": [
        "Predictions on user inputs"
      ],
      "metadata": {
        "id": "BF6cbk_p0jWj"
      }
    },
    {
      "cell_type": "code",
      "source": [
        "def preprocess_input(text,tokenizer):\n",
        "  encodings = tokenizer(text, truncation = True, padding = True, return_tensors='tf')\n",
        "  return encodings"
      ],
      "metadata": {
        "id": "f8cE6CbF0e0d"
      },
      "execution_count": 29,
      "outputs": []
    },
    {
      "cell_type": "code",
      "source": [
        "def predict_sentiment(text,model,tokenizer):\n",
        "  input_encodings = preprocess_input(text,tokenizer)\n",
        "  predictions = model(input_encodings)\n",
        "  logits = predictions.logits\n",
        "  probabilities = tf.nn.softmax(logits,axis=1)\n",
        "  predicted_labels = tf.argmax(probabilities, axis=-1).numpy()[0]\n",
        "\n",
        "  label_map = {0:'disliked',1:'liked'}\n",
        "  predictedclass = label_map[predicted_labels]\n",
        "  return predictedclass"
      ],
      "metadata": {
        "id": "zarZdqot0i2B"
      },
      "execution_count": 31,
      "outputs": []
    },
    {
      "cell_type": "code",
      "source": [
        "input = \"The person who took the session was really bad. He was so rude.\"\n",
        "predicted_class = predict_sentiment(input,model,tokenizer)\n",
        "print(f\"Comments is classified as {predicted_class}\")"
      ],
      "metadata": {
        "colab": {
          "base_uri": "https://localhost:8080/"
        },
        "id": "CIvsUM1p0pBk",
        "outputId": "f616ced3-e8fb-4124-bb76-079d02f5f38d"
      },
      "execution_count": 32,
      "outputs": [
        {
          "output_type": "stream",
          "name": "stdout",
          "text": [
            "Comments is classified as disliked\n"
          ]
        }
      ]
    },
    {
      "cell_type": "markdown",
      "source": [
        "# Conclusion\n",
        "\n",
        "Finetuned the DistilBert LLM model. Gave a custom domain specific social media dataset that includes two features. The model will analyse the sentiment of the comments. Used transformers to do all the required operations. Performed encoding and tokenizations as it is very essential for fine tuning. Tensorflow is used for the conversion of encodings to dataset object. Used keras because I faced an issue with TFTrainer in tensorflow, since it is deprecated."
      ],
      "metadata": {
        "id": "PpMOsQGm1ByL"
      }
    }
  ]
}